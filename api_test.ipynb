{
 "cells": [
  {
   "cell_type": "code",
   "execution_count": 8,
   "id": "1cc6de7a",
   "metadata": {},
   "outputs": [],
   "source": [
    "import requests\n",
    "import numpy as np\n",
    "import io"
   ]
  },
  {
   "cell_type": "code",
   "execution_count": 19,
   "id": "adf07914",
   "metadata": {},
   "outputs": [
    {
     "name": "stdout",
     "output_type": "stream",
     "text": [
      "CPU times: user 4.86 ms, sys: 0 ns, total: 4.86 ms\n",
      "Wall time: 38.3 ms\n",
      "predicted_value: {'CO2@1 (%)': 0.003164813155308366, 'CO2@2 (%)': 0.0027541876770555973, 'CO2@3 (%)': 0.005456096492707729, 'CO2@4 (%)': 0.006810501683503389, 'CO2@5 (%)': 0.047059085220098495, 'CO2@6 (%)': 0.26459965109825134}\n",
      "source_timestamp: ['2014-02-07T12:33:36', '2014-02-07T12:34:19', '2014-02-07T12:35:02', '2014-02-07T12:35:46', '2014-02-07T12:36:29', '2014-02-07T12:37:12', '2014-02-07T12:37:55', '2014-02-07T12:38:38', '2014-02-07T12:39:22', '2014-02-07T12:40:05', '2014-02-07T12:40:48', '2014-02-07T12:41:31', '2014-02-07T12:42:14', '2014-02-07T12:42:58', '2014-02-07T12:43:41']\n",
      "data_points_used: 15\n"
     ]
    }
   ],
   "source": [
    "url = \"http://localhost:8000/predict/timestamp\"\n",
    "params = {\n",
    "    \"timestamp\": \"2014-02-07 12:43:50\"\n",
    "}\n",
    "\n",
    "%time response = requests.get(url=url, params=params)\n",
    "\n",
    "output = response.json()\n",
    "for key, value in output.items():\n",
    "    print(f\"{key}: {value}\")"
   ]
  },
  {
   "cell_type": "code",
   "execution_count": null,
   "id": "bc32fd7c",
   "metadata": {},
   "outputs": [],
   "source": []
  }
 ],
 "metadata": {
  "kernelspec": {
   "display_name": "venv",
   "language": "python",
   "name": "python3"
  },
  "language_info": {
   "codemirror_mode": {
    "name": "ipython",
    "version": 3
   },
   "file_extension": ".py",
   "mimetype": "text/x-python",
   "name": "python",
   "nbconvert_exporter": "python",
   "pygments_lexer": "ipython3",
   "version": "3.12.11"
  }
 },
 "nbformat": 4,
 "nbformat_minor": 5
}
