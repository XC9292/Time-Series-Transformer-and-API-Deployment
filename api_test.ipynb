{
 "cells": [
  {
   "cell_type": "code",
   "execution_count": 18,
   "id": "1cc6de7a",
   "metadata": {},
   "outputs": [],
   "source": [
    "import requests\n",
    "import numpy as np\n",
    "import io"
   ]
  },
  {
   "cell_type": "code",
   "execution_count": 19,
   "id": "adf07914",
   "metadata": {},
   "outputs": [
    {
     "name": "stdout",
     "output_type": "stream",
     "text": [
      "CPU times: user 3.52 ms, sys: 162 μs, total: 3.68 ms\n",
      "Wall time: 38.3 ms\n",
      "predicted_value: {'CO2@1 (%)': 0.038093964644117864, 'CO2@2 (%)': 0.033151381406842734, 'CO2@3 (%)': 0.06567349688226769, 'CO2@4 (%)': 0.08197609072274116, 'CO2@5 (%)': 0.566436955544155, 'CO2@6 (%)': 3.1849114810699124}\n",
      "source_timestamp: ['2014-02-07T12:33:36', '2014-02-07T12:34:19', '2014-02-07T12:35:02', '2014-02-07T12:35:46', '2014-02-07T12:36:29', '2014-02-07T12:37:12', '2014-02-07T12:37:55', '2014-02-07T12:38:38', '2014-02-07T12:39:22', '2014-02-07T12:40:05', '2014-02-07T12:40:48', '2014-02-07T12:41:31', '2014-02-07T12:42:14', '2014-02-07T12:42:58', '2014-02-07T12:43:41']\n",
      "data_points_used: 15\n"
     ]
    }
   ],
   "source": [
    "url = \"http://localhost:8000/predict/timestamp\"\n",
    "params = {\n",
    "    \"timestamp\": \"2014-02-07 12:43:50\"\n",
    "}\n",
    "\n",
    "%time response = requests.get(url=url, params=params)\n",
    "\n",
    "output = response.json()\n",
    "for key, value in output.items():\n",
    "    print(f\"{key}: {value}\")"
   ]
  },
  {
   "cell_type": "code",
   "execution_count": null,
   "id": "bc32fd7c",
   "metadata": {},
   "outputs": [],
   "source": []
  }
 ],
 "metadata": {
  "kernelspec": {
   "display_name": "venv",
   "language": "python",
   "name": "python3"
  },
  "language_info": {
   "codemirror_mode": {
    "name": "ipython",
    "version": 3
   },
   "file_extension": ".py",
   "mimetype": "text/x-python",
   "name": "python",
   "nbconvert_exporter": "python",
   "pygments_lexer": "ipython3",
   "version": "3.12.11"
  }
 },
 "nbformat": 4,
 "nbformat_minor": 5
}
